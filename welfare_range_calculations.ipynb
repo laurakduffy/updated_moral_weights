{
 "cells": [
  {
   "attachments": {},
   "cell_type": "markdown",
   "metadata": {},
   "source": [
    "## Welfare Range Calculations"
   ]
  },
  {
   "attachments": {},
   "cell_type": "markdown",
   "metadata": {},
   "source": [
    "### Set-Up"
   ]
  },
  {
   "cell_type": "code",
   "execution_count": 25,
   "metadata": {},
   "outputs": [],
   "source": [
    "import squigglepy as sq\n",
    "from squigglepy.numbers import *\n",
    "import numpy as np\n",
    "import matplotlib.pyplot as plt\n",
    "import pandas as pd\n",
    "import os\n",
    "\n",
    "N = 10*K\n",
    "PERCENTILES = [1, 5, 25, 50, 75, 95, 99]"
   ]
  },
  {
   "attachments": {},
   "cell_type": "markdown",
   "metadata": {},
   "source": [
    "### P(Sentience) Distributions"
   ]
  },
  {
   "attachments": {},
   "cell_type": "markdown",
   "metadata": {},
   "source": [
    "#### Distribution Sampling"
   ]
  },
  {
   "cell_type": "code",
   "execution_count": 26,
   "metadata": {},
   "outputs": [],
   "source": [
    "pigs = np.ones(N) - sq.sample(sq.lognorm(0.001, 0.2, rclip=.4), N)\n",
    "chickens = np.ones(N) - sq.sample(sq.lognorm(0.05, 0.25, lclip=0.01, rclip=0.5), N)\n",
    "carp = sq.sample(sq.norm(0.55, 0.85, lclip=0, rclip=1), N)\n",
    "octopuses = np.ones(N) - sq.sample(sq.lognorm(0.1, 0.5, lclip=0.01, rclip=.99), N)\n",
    "shrimp = sq.sample(sq.lognorm(0.2, 0.7, lclip = 0.01, rclip=1), N)\n",
    "bsf = sq.sample(sq.norm(0.1, 0.6, lclip = 0.01, rclip=1), N)\n",
    "\n",
    "models_dict = {\"Pigs\": pigs, \"Chickens\": chickens, \"Carp\": carp, \"Octopuses\": octopuses, \"Shrimp\": shrimp, \"BSF\": bsf}"
   ]
  },
  {
   "attachments": {},
   "cell_type": "markdown",
   "metadata": {},
   "source": [
    "#### P(Sentience) Summary Statistics"
   ]
  },
  {
   "cell_type": "code",
   "execution_count": 31,
   "metadata": {},
   "outputs": [
    {
     "name": "stdout",
     "output_type": "stream",
     "text": [
      "Probability of Sentience\n"
     ]
    },
    {
     "data": {
      "text/html": [
       "<div>\n",
       "<style scoped>\n",
       "    .dataframe tbody tr th:only-of-type {\n",
       "        vertical-align: middle;\n",
       "    }\n",
       "\n",
       "    .dataframe tbody tr th {\n",
       "        vertical-align: top;\n",
       "    }\n",
       "\n",
       "    .dataframe thead th {\n",
       "        text-align: right;\n",
       "    }\n",
       "</style>\n",
       "<table border=\"1\" class=\"dataframe\">\n",
       "  <thead>\n",
       "    <tr style=\"text-align: right;\">\n",
       "      <th></th>\n",
       "      <th>1%</th>\n",
       "      <th>5%</th>\n",
       "      <th>25%</th>\n",
       "      <th>50%</th>\n",
       "      <th>75%</th>\n",
       "      <th>95%</th>\n",
       "      <th>99%</th>\n",
       "      <th>Mean</th>\n",
       "    </tr>\n",
       "  </thead>\n",
       "  <tbody>\n",
       "    <tr>\n",
       "      <th>Pigs</th>\n",
       "      <td>0.60</td>\n",
       "      <td>0.80</td>\n",
       "      <td>0.96</td>\n",
       "      <td>0.99</td>\n",
       "      <td>1.00</td>\n",
       "      <td>1.00</td>\n",
       "      <td>1.00</td>\n",
       "      <td>0.96</td>\n",
       "    </tr>\n",
       "    <tr>\n",
       "      <th>Chickens</th>\n",
       "      <td>0.65</td>\n",
       "      <td>0.75</td>\n",
       "      <td>0.85</td>\n",
       "      <td>0.89</td>\n",
       "      <td>0.92</td>\n",
       "      <td>0.95</td>\n",
       "      <td>0.96</td>\n",
       "      <td>0.87</td>\n",
       "    </tr>\n",
       "    <tr>\n",
       "      <th>Carp</th>\n",
       "      <td>0.49</td>\n",
       "      <td>0.55</td>\n",
       "      <td>0.64</td>\n",
       "      <td>0.70</td>\n",
       "      <td>0.76</td>\n",
       "      <td>0.85</td>\n",
       "      <td>0.91</td>\n",
       "      <td>0.70</td>\n",
       "    </tr>\n",
       "    <tr>\n",
       "      <th>Octopuses</th>\n",
       "      <td>0.30</td>\n",
       "      <td>0.49</td>\n",
       "      <td>0.69</td>\n",
       "      <td>0.77</td>\n",
       "      <td>0.84</td>\n",
       "      <td>0.90</td>\n",
       "      <td>0.93</td>\n",
       "      <td>0.75</td>\n",
       "    </tr>\n",
       "    <tr>\n",
       "      <th>Shrimp</th>\n",
       "      <td>0.15</td>\n",
       "      <td>0.20</td>\n",
       "      <td>0.29</td>\n",
       "      <td>0.37</td>\n",
       "      <td>0.48</td>\n",
       "      <td>0.70</td>\n",
       "      <td>0.92</td>\n",
       "      <td>0.40</td>\n",
       "    </tr>\n",
       "    <tr>\n",
       "      <th>BSF</th>\n",
       "      <td>0.01</td>\n",
       "      <td>0.10</td>\n",
       "      <td>0.25</td>\n",
       "      <td>0.35</td>\n",
       "      <td>0.45</td>\n",
       "      <td>0.60</td>\n",
       "      <td>0.69</td>\n",
       "      <td>0.35</td>\n",
       "    </tr>\n",
       "  </tbody>\n",
       "</table>\n",
       "</div>"
      ],
      "text/plain": [
       "             1%    5%   25%   50%   75%   95%   99%  Mean\n",
       "Pigs       0.60  0.80  0.96  0.99  1.00  1.00  1.00  0.96\n",
       "Chickens   0.65  0.75  0.85  0.89  0.92  0.95  0.96  0.87\n",
       "Carp       0.49  0.55  0.64  0.70  0.76  0.85  0.91  0.70\n",
       "Octopuses  0.30  0.49  0.69  0.77  0.84  0.90  0.93  0.75\n",
       "Shrimp     0.15  0.20  0.29  0.37  0.48  0.70  0.92  0.40\n",
       "BSF        0.01  0.10  0.25  0.35  0.45  0.60  0.69  0.35"
      ]
     },
     "execution_count": 31,
     "metadata": {},
     "output_type": "execute_result"
    }
   ],
   "source": [
    "def get_percentiles_table(models_dict, animals):\n",
    "    cols = ['1%', '5%', '25%', '50%', '75%', '95%', '99%', \"Mean\"]\n",
    "    percentiles_dict = {}\n",
    "    for animal in animals:\n",
    "        percentiles = np.round(np.percentile(models_dict[animal], PERCENTILES), 2)\n",
    "        percent_and_mean = np.append(percentiles, np.round(np.mean(models_dict[animal]),2))\n",
    "        percentiles_dict[animal] = percent_and_mean\n",
    "    df = pd.DataFrame.from_dict(percentiles_dict, columns=cols, orient='index')\n",
    "    print(\"Probability of Sentience\")\n",
    "    df.to_csv(os.path.join(\"outputs\", \"percentiles.csv\"))\n",
    "    return df\n",
    "\n",
    "get_percentiles_table(models_dict, [\"Pigs\", \"Chickens\", \"Carp\", \"Octopuses\", \"Shrimp\", \"BSF\"])"
   ]
  }
 ],
 "metadata": {
  "kernelspec": {
   "display_name": "Python 3",
   "language": "python",
   "name": "python3"
  },
  "language_info": {
   "codemirror_mode": {
    "name": "ipython",
    "version": 3
   },
   "file_extension": ".py",
   "mimetype": "text/x-python",
   "name": "python",
   "nbconvert_exporter": "python",
   "pygments_lexer": "ipython3",
   "version": "3.9.13"
  },
  "orig_nbformat": 4
 },
 "nbformat": 4,
 "nbformat_minor": 2
}
