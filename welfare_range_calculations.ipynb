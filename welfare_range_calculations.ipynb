{
 "cells": [
  {
   "attachments": {},
   "cell_type": "markdown",
   "metadata": {},
   "source": [
    "## Welfare Range Calculations"
   ]
  },
  {
   "attachments": {},
   "cell_type": "markdown",
   "metadata": {},
   "source": [
    "### Set-Up"
   ]
  },
  {
   "cell_type": "code",
   "execution_count": 25,
   "metadata": {},
   "outputs": [],
   "source": [
    "import squigglepy as sq\n",
    "from squigglepy.numbers import *\n",
    "import numpy as np\n",
    "import matplotlib.pyplot as plt\n",
    "import pandas as pd\n",
    "import os\n",
    "\n",
    "N = 10*K\n",
    "PERCENTILES = [1, 5, 25, 50, 75, 95, 99]"
   ]
  },
  {
   "attachments": {},
   "cell_type": "markdown",
   "metadata": {},
   "source": [
    "### P(Sentience) Distributions"
   ]
  },
  {
   "attachments": {},
   "cell_type": "markdown",
   "metadata": {},
   "source": [
    "#### Distribution Sampling"
   ]
  },
  {
   "cell_type": "code",
   "execution_count": 26,
   "metadata": {},
   "outputs": [],
   "source": [
    "pigs = np.ones(N) - sq.sample(sq.lognorm(0.001, 0.2, rclip=.4), N)\n",
    "chickens = np.ones(N) - sq.sample(sq.lognorm(0.05, 0.25, lclip=0.01, rclip=0.5), N)\n",
    "carp = sq.sample(sq.norm(0.55, 0.85, lclip=0, rclip=1), N)\n",
    "octopuses = np.ones(N) - sq.sample(sq.lognorm(0.1, 0.5, lclip=0.01, rclip=.99), N)\n",
    "shrimp = sq.sample(sq.lognorm(0.2, 0.7, lclip = 0.01, rclip=1), N)\n",
    "bsf = sq.sample(sq.norm(0.1, 0.6, lclip = 0.01, rclip=1), N)\n",
    "\n",
    "models_dict = {\"Pigs\": pigs, \"Chickens\": chickens, \"Carp\": carp, \"Octopuses\": octopuses, \"Shrimp\": shrimp, \"BSF\": bsf}"
   ]
  },
  {
   "attachments": {},
   "cell_type": "markdown",
   "metadata": {},
   "source": [
    "#### P(Sentience) Summary Statistics"
   ]
  },
  {
   "cell_type": "code",
   "execution_count": 27,
   "metadata": {},
   "outputs": [
    {
     "name": "stdout",
     "output_type": "stream",
     "text": [
      "Probability of Sentience\n",
      "                 1%        5%       25%       50%       75%       95%  \\\n",
      "Pigs       0.600000  0.801040  0.958274  0.985785  0.995056  0.998989   \n",
      "Chickens   0.652864  0.749757  0.845560  0.889252  0.919968  0.950575   \n",
      "Carp       0.490148  0.549095  0.637261  0.698825  0.760671  0.848842   \n",
      "Octopuses  0.296134  0.493661  0.685611  0.773634  0.838500  0.899745   \n",
      "Shrimp     0.151631  0.198836  0.288645  0.373068  0.484491  0.697006   \n",
      "BSF        0.010000  0.101413  0.248673  0.350277  0.454754  0.601108   \n",
      "\n",
      "                99%      Mean  \n",
      "Pigs       0.999665  0.957434  \n",
      "Chickens   0.963617  0.874811  \n",
      "Carp       0.906721  0.698600  \n",
      "Octopuses  0.927535  0.745593  \n",
      "Shrimp     0.918929  0.400870  \n",
      "BSF        0.694999  0.351725  \n"
     ]
    },
    {
     "data": {
      "text/html": [
       "<div>\n",
       "<style scoped>\n",
       "    .dataframe tbody tr th:only-of-type {\n",
       "        vertical-align: middle;\n",
       "    }\n",
       "\n",
       "    .dataframe tbody tr th {\n",
       "        vertical-align: top;\n",
       "    }\n",
       "\n",
       "    .dataframe thead th {\n",
       "        text-align: right;\n",
       "    }\n",
       "</style>\n",
       "<table border=\"1\" class=\"dataframe\">\n",
       "  <thead>\n",
       "    <tr style=\"text-align: right;\">\n",
       "      <th></th>\n",
       "      <th>1%</th>\n",
       "      <th>5%</th>\n",
       "      <th>25%</th>\n",
       "      <th>50%</th>\n",
       "      <th>75%</th>\n",
       "      <th>95%</th>\n",
       "      <th>99%</th>\n",
       "      <th>Mean</th>\n",
       "    </tr>\n",
       "  </thead>\n",
       "  <tbody>\n",
       "    <tr>\n",
       "      <th>Pigs</th>\n",
       "      <td>0.600000</td>\n",
       "      <td>0.801040</td>\n",
       "      <td>0.958274</td>\n",
       "      <td>0.985785</td>\n",
       "      <td>0.995056</td>\n",
       "      <td>0.998989</td>\n",
       "      <td>0.999665</td>\n",
       "      <td>0.957434</td>\n",
       "    </tr>\n",
       "    <tr>\n",
       "      <th>Chickens</th>\n",
       "      <td>0.652864</td>\n",
       "      <td>0.749757</td>\n",
       "      <td>0.845560</td>\n",
       "      <td>0.889252</td>\n",
       "      <td>0.919968</td>\n",
       "      <td>0.950575</td>\n",
       "      <td>0.963617</td>\n",
       "      <td>0.874811</td>\n",
       "    </tr>\n",
       "    <tr>\n",
       "      <th>Carp</th>\n",
       "      <td>0.490148</td>\n",
       "      <td>0.549095</td>\n",
       "      <td>0.637261</td>\n",
       "      <td>0.698825</td>\n",
       "      <td>0.760671</td>\n",
       "      <td>0.848842</td>\n",
       "      <td>0.906721</td>\n",
       "      <td>0.698600</td>\n",
       "    </tr>\n",
       "    <tr>\n",
       "      <th>Octopuses</th>\n",
       "      <td>0.296134</td>\n",
       "      <td>0.493661</td>\n",
       "      <td>0.685611</td>\n",
       "      <td>0.773634</td>\n",
       "      <td>0.838500</td>\n",
       "      <td>0.899745</td>\n",
       "      <td>0.927535</td>\n",
       "      <td>0.745593</td>\n",
       "    </tr>\n",
       "    <tr>\n",
       "      <th>Shrimp</th>\n",
       "      <td>0.151631</td>\n",
       "      <td>0.198836</td>\n",
       "      <td>0.288645</td>\n",
       "      <td>0.373068</td>\n",
       "      <td>0.484491</td>\n",
       "      <td>0.697006</td>\n",
       "      <td>0.918929</td>\n",
       "      <td>0.400870</td>\n",
       "    </tr>\n",
       "    <tr>\n",
       "      <th>BSF</th>\n",
       "      <td>0.010000</td>\n",
       "      <td>0.101413</td>\n",
       "      <td>0.248673</td>\n",
       "      <td>0.350277</td>\n",
       "      <td>0.454754</td>\n",
       "      <td>0.601108</td>\n",
       "      <td>0.694999</td>\n",
       "      <td>0.351725</td>\n",
       "    </tr>\n",
       "  </tbody>\n",
       "</table>\n",
       "</div>"
      ],
      "text/plain": [
       "                 1%        5%       25%       50%       75%       95%  \\\n",
       "Pigs       0.600000  0.801040  0.958274  0.985785  0.995056  0.998989   \n",
       "Chickens   0.652864  0.749757  0.845560  0.889252  0.919968  0.950575   \n",
       "Carp       0.490148  0.549095  0.637261  0.698825  0.760671  0.848842   \n",
       "Octopuses  0.296134  0.493661  0.685611  0.773634  0.838500  0.899745   \n",
       "Shrimp     0.151631  0.198836  0.288645  0.373068  0.484491  0.697006   \n",
       "BSF        0.010000  0.101413  0.248673  0.350277  0.454754  0.601108   \n",
       "\n",
       "                99%      Mean  \n",
       "Pigs       0.999665  0.957434  \n",
       "Chickens   0.963617  0.874811  \n",
       "Carp       0.906721  0.698600  \n",
       "Octopuses  0.927535  0.745593  \n",
       "Shrimp     0.918929  0.400870  \n",
       "BSF        0.694999  0.351725  "
      ]
     },
     "execution_count": 27,
     "metadata": {},
     "output_type": "execute_result"
    }
   ],
   "source": [
    "def get_percentiles_table(models_dict, animals):\n",
    "    cols = ['1%', '5%', '25%', '50%', '75%', '95%', '99%', \"Mean\"]\n",
    "    percentiles_dict = {}\n",
    "    for animal in animals:\n",
    "        percentiles = np.percentile(models_dict[animal], PERCENTILES)\n",
    "        percent_and_mean = np.append(percentiles, np.mean(models_dict[animal]))\n",
    "        percentiles_dict[animal] = percent_and_mean\n",
    "    df = pd.DataFrame.from_dict(percentiles_dict, columns=cols, orient='index')\n",
    "    print(\"Probability of Sentience\")\n",
    "    print(df)\n",
    "    df.to_csv(os.path.join(\"outputs\", \"percentiles.csv\"))\n",
    "    return df\n",
    "\n",
    "get_percentiles_table(models_dict, [\"Pigs\", \"Chickens\", \"Carp\", \"Octopuses\", \"Shrimp\", \"BSF\"])"
   ]
  }
 ],
 "metadata": {
  "kernelspec": {
   "display_name": "Python 3",
   "language": "python",
   "name": "python3"
  },
  "language_info": {
   "codemirror_mode": {
    "name": "ipython",
    "version": 3
   },
   "file_extension": ".py",
   "mimetype": "text/x-python",
   "name": "python",
   "nbconvert_exporter": "python",
   "pygments_lexer": "ipython3",
   "version": "3.9.13"
  },
  "orig_nbformat": 4
 },
 "nbformat": 4,
 "nbformat_minor": 2
}
